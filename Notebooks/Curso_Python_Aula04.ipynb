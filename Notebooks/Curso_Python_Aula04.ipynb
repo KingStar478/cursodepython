{
  "nbformat": 4,
  "nbformat_minor": 0,
  "metadata": {
    "colab": {
      "provenance": [],
      "authorship_tag": "ABX9TyM1u+XQWZmO/S2ljpoUaYXe",
      "include_colab_link": true
    },
    "kernelspec": {
      "name": "python3",
      "display_name": "Python 3"
    },
    "language_info": {
      "name": "python"
    }
  },
  "cells": [
    {
      "cell_type": "markdown",
      "metadata": {
        "id": "view-in-github",
        "colab_type": "text"
      },
      "source": [
        "<a href=\"https://colab.research.google.com/github/humbertozanetti/cursodepython/blob/main/Notebooks/Curso_Python_Aula04.ipynb\" target=\"_parent\"><img src=\"https://colab.research.google.com/assets/colab-badge.svg\" alt=\"Open In Colab\"/></a>"
      ]
    },
    {
      "cell_type": "markdown",
      "source": [
        "# **CURSO DE PYTHON - Aula 04**\n",
        "**LISTAS -  parte 1**\n",
        "\n",
        "Prof. Dr. Humberto A. P. Zanetti\n",
        "\n",
        "---"
      ],
      "metadata": {
        "id": "wD1_IORphX_j"
      }
    },
    {
      "cell_type": "markdown",
      "source": [
        "## 1. O que são listas?"
      ],
      "metadata": {
        "id": "V3pvMsJAhgy_"
      }
    },
    {
      "cell_type": "code",
      "source": [],
      "metadata": {
        "id": "2DnZNCp_Bxe5"
      },
      "execution_count": null,
      "outputs": []
    },
    {
      "cell_type": "markdown",
      "source": [
        "Listas são conjuntos ou sequêcnias de valores que são referências por uma **mesmo identificador**. Em listas, os valores inseirdos podem ser de **qualquer tipo**, ou seja é heterogênea.  \n",
        "Usualmente chamamos os valores dentro de uma lista de **elementos** e estes são organizados em **índices** diferentes.  \n",
        "Há diversas formas de criar uma lista, mas a maneira mais simples é colocando os elemmentos entre **colchetes** (`[]`)."
      ],
      "metadata": {
        "id": "65uJL_UUhnFC"
      }
    },
    {
      "cell_type": "code",
      "execution_count": null,
      "metadata": {
        "id": "k-BlX224hNyL"
      },
      "outputs": [],
      "source": [
        "lista = [1,2,3,4]\n",
        "nomes = ['João', 'Fulano', 'Luke']\n",
        "qualquer_coisa = [1.78, 101, 'séloko', True]"
      ]
    },
    {
      "cell_type": "markdown",
      "source": [
        "Para acessar os elementos também usamos o colchetes, logo a frente do identificador (**nome da lista**). **IMPORTANTE**: toda lista em Python de inicia em **zero**(0), sempre incrementado em 1 em 1."
      ],
      "metadata": {
        "id": "c6cqysb4jUhX"
      }
    },
    {
      "cell_type": "code",
      "source": [],
      "metadata": {
        "id": "H64DguyPkESr"
      },
      "execution_count": null,
      "outputs": []
    },
    {
      "cell_type": "markdown",
      "source": [
        "Listas são estruturas que chamamos de **mutáveis**, ou seja, podem mudar de valor. A alteração de valor é dado diretamente como uma atribuição (**=**)."
      ],
      "metadata": {
        "id": "WKrR9AaBkFNz"
      }
    },
    {
      "cell_type": "code",
      "source": [],
      "metadata": {
        "id": "Tjx2VMD8kuty"
      },
      "execution_count": null,
      "outputs": []
    },
    {
      "cell_type": "markdown",
      "source": [
        "**Dica**: se tentar ler ou escrever um elemento que não existe, você recebe um ***IndexError***."
      ],
      "metadata": {
        "id": "kl6lc0hMkvkD"
      }
    },
    {
      "cell_type": "markdown",
      "source": [
        "## 2. Percorrendo uma lista"
      ],
      "metadata": {
        "id": "lPRD215clmzT"
      }
    },
    {
      "cell_type": "markdown",
      "source": [
        "Uma das formas mais usuais é utilizando a estrutura `for`juntamente com a instrução `in`.  \n",
        "Essa utilização do `for`é a padrão, pois foi criado pra percorrer estruturas com valores! O `in` indica qual é a coleção de valores a ser percorrido.   \n",
        "Juntamente com eles, temos que **uma variável** que irá receber o valor de cada elemento da lista, **trocando de valor**, conforme é percorrido a lista.  \n",
        "\n",
        "**Estrutura básica:**\n",
        "```python\n",
        "for ele in conjunto:\n",
        "  <comandos>\n",
        "```"
      ],
      "metadata": {
        "id": "rmXrUf3HoO8r"
      }
    },
    {
      "cell_type": "code",
      "source": [],
      "metadata": {
        "id": "T53Jd9_Sqd1T"
      },
      "execution_count": null,
      "outputs": []
    },
    {
      "cell_type": "markdown",
      "source": [
        "Notem que dessa maneira não acessamos diretamente os elementos pelos índices, pois o `for` percorre diretamente os elementos.  \n",
        "\n",
        "![Exemplo lista](https://miro.medium.com/v2/resize:fit:1400/1*_-gqJiBCDTFfIknkM5PbwA.png)\n",
        "\n",
        "Caso você queira ou precise usar os indíces para algo específico, podemos usar o `range()`, para gerar nossos valores de índices. Nesse caso será **percorrido a coleção do `range()`** e não a lista. Portanto, temos declaração o acesso explícito dentro do bloco `for`.  \n",
        "```python\n",
        "for i in range(fim_intervalo):\n",
        "```\n"
      ],
      "metadata": {
        "id": "N-66Kp2YoS9b"
      }
    },
    {
      "cell_type": "code",
      "source": [],
      "metadata": {
        "id": "IYfZGFwc8m2O"
      },
      "execution_count": null,
      "outputs": []
    },
    {
      "cell_type": "markdown",
      "source": [
        "Em Python é possível percorrer uma lista pelo fim, usando o recurso de **indíces negativos**. Esses índices tem como padrão tendo o último elemento sendo índice **-1**.\n",
        "\n",
        "![Índices negativos](https://www.scaler.com/topics/media/elements-in-python-list-1024x495.webp)\n"
      ],
      "metadata": {
        "id": "S6PQolCD8mBy"
      }
    },
    {
      "cell_type": "code",
      "source": [],
      "metadata": {
        "id": "uZOiG7QT-Rqe"
      },
      "execution_count": null,
      "outputs": []
    },
    {
      "cell_type": "markdown",
      "source": [
        "Mesmo esse método sendo eficaz, há uma maneira mais *pythônica* de acessar e utilizar os índices, usando a função `enumerate()`.  \n",
        "A função cria uma coleção de valores que correspondem ao índice, que podem ser acessados durante o percorrida pela lista. Para isso, colocamos mais uma variável junto ao `for`.\n",
        "\n",
        "```python\n",
        "for ind, ele in enumerate(lista):\n",
        "```"
      ],
      "metadata": {
        "id": "N_GJMzESoYDD"
      }
    },
    {
      "cell_type": "code",
      "source": [
        "\n"
      ],
      "metadata": {
        "id": "y7gqoelD3YVU"
      },
      "execution_count": null,
      "outputs": []
    },
    {
      "cell_type": "markdown",
      "source": [
        "## 3. Fatiamento de listas"
      ],
      "metadata": {
        "id": "AqbVQfJdofX_"
      }
    },
    {
      "cell_type": "markdown",
      "source": [
        "Como listas são muito utilizadas em Python, há diversas maneiras e funções de manipulação de listas.  \n",
        "Como listas podem ser conjuntos muito grandes de valores, as vezes é preciso que você trabalha com apenas \"uma parte\" da lista, com apenas uma **fatia** dessa lista. Uma fatia seria uma parte da lista, iniciando em um índice e terminando em outro, sequencialmente. A sintaxe de fatiamento é feito com o uso de dois pontos (`:`) dentro dos colchetes.\n",
        "\n",
        "+ `lista[:]` : se omitir o início e fim, será recortada **toda** a lista, ou seja, temos todos os elementos. A omissão faz com que os valores padrões será o início o **índice 0** e o fim **o último índice**.\n",
        "+ `lista[ind_inicial:]` : será criado um fatiamento **a partir do índice** informado até o último índice da lista.\n",
        "+ `lista[:ind_final]` :  será criado um fatiamento a partir do primeiro índice  até **ANTES** (`< ind_final`) do último índice da lista.\n",
        "+ `lista[ind_inicial:ind_final]` :  será feito um fatiamento **a partir** do primeiro índice informado até **antes** do último índice informado.\n"
      ],
      "metadata": {
        "id": "fiiPrauH3y1n"
      }
    },
    {
      "cell_type": "code",
      "source": [],
      "metadata": {
        "id": "kILrui_t9YLs"
      },
      "execution_count": null,
      "outputs": []
    },
    {
      "cell_type": "markdown",
      "source": [
        "## 4. Copiando listas\n",
        "\n",
        "Uma das aplicações mais comuns de fatiamento é para cópia entre listas. Se fizermos isso:\n",
        "\n",
        "```python\n",
        "lista1 = [3,5,7,9]\n",
        "lista2 = []\n",
        "\n",
        "lista2 = lista1\n",
        "```\n",
        "As linha acima **não cria uma nova lista para `lista2`**, simplemeste os dados agora possuem **2 referências** para o mesmo conjunto de valores!!!\n",
        "\n",
        "![Cópia lista](https://developers.google.com/static/edu/python/images/list2.png)"
      ],
      "metadata": {
        "id": "q_2xSmyj-VnU"
      }
    },
    {
      "cell_type": "code",
      "source": [],
      "metadata": {
        "id": "2S3r7pIuBLk0"
      },
      "execution_count": null,
      "outputs": []
    },
    {
      "cell_type": "markdown",
      "source": [
        "Para que haja uma cópia **efetiva** dos valores para criar uma lista nova, podemos usar o **fatiamento**."
      ],
      "metadata": {
        "id": "WtuQmLBdBM4o"
      }
    },
    {
      "cell_type": "code",
      "source": [],
      "metadata": {
        "id": "d57VGk1TBVlA"
      },
      "execution_count": null,
      "outputs": []
    }
  ]
}