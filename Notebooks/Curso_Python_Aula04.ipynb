{
  "nbformat": 4,
  "nbformat_minor": 0,
  "metadata": {
    "colab": {
      "provenance": [],
      "authorship_tag": "ABX9TyNlL3yWi91TuElQIsruA1aR",
      "include_colab_link": true
    },
    "kernelspec": {
      "name": "python3",
      "display_name": "Python 3"
    },
    "language_info": {
      "name": "python"
    }
  },
  "cells": [
    {
      "cell_type": "markdown",
      "metadata": {
        "id": "view-in-github",
        "colab_type": "text"
      },
      "source": [
        "<a href=\"https://colab.research.google.com/github/humbertozanetti/cursodepython/blob/main/Notebooks/Curso_Python_Aula04.ipynb\" target=\"_parent\"><img src=\"https://colab.research.google.com/assets/colab-badge.svg\" alt=\"Open In Colab\"/></a>"
      ]
    },
    {
      "cell_type": "markdown",
      "source": [
        "# **CURSO DE PYTHON - Aula 04**\n",
        "**LISTAS**\n",
        "\n",
        "Prof. Dr. Humberto A. P. Zanetti\n",
        "\n",
        "---"
      ],
      "metadata": {
        "id": "wD1_IORphX_j"
      }
    },
    {
      "cell_type": "markdown",
      "source": [
        "## 1. O que são listas?"
      ],
      "metadata": {
        "id": "V3pvMsJAhgy_"
      }
    },
    {
      "cell_type": "markdown",
      "source": [
        "Listas são conjuntos ou sequêcnias de valores que são referências por uma **mesmo identificador**. Em listas, os valores inseirdos podem ser de **qualquer tipo**, ou seja é heterogênea.  \n",
        "Usualmente chamamos os valores dentro de uma lista de **elementos** e estes são organizados em **índices** diferentes.  \n",
        "Há diversas formas de criar uma lista, mas a maneira mais simples é colocando os elemmentos entre **colchetes** (`[]`)."
      ],
      "metadata": {
        "id": "65uJL_UUhnFC"
      }
    },
    {
      "cell_type": "code",
      "execution_count": null,
      "metadata": {
        "id": "k-BlX224hNyL"
      },
      "outputs": [],
      "source": [
        "lista = [1,2,3,4]\n",
        "nomes = ['João', 'Fulano', 'Luke']\n",
        "qualquer_coisa = [1.78, 101, 'séloko', 'True']"
      ]
    },
    {
      "cell_type": "markdown",
      "source": [
        "Para acessar os elementos também usamos o colchetes, logo a frente do identificador (**nome da lista**). **IMPORTANTE**: toda lista em Python de inicia em **zero**(0), sempre incrementado em 1 em 1."
      ],
      "metadata": {
        "id": "c6cqysb4jUhX"
      }
    },
    {
      "cell_type": "code",
      "source": [],
      "metadata": {
        "id": "H64DguyPkESr"
      },
      "execution_count": null,
      "outputs": []
    },
    {
      "cell_type": "markdown",
      "source": [
        "Listas são estruturas que chamamos de **mutáveis**, ou seja, podem mudar de valor. A alteração de valor é dado diretamente como uma atribuição (**=**)."
      ],
      "metadata": {
        "id": "WKrR9AaBkFNz"
      }
    },
    {
      "cell_type": "code",
      "source": [],
      "metadata": {
        "id": "Tjx2VMD8kuty"
      },
      "execution_count": null,
      "outputs": []
    },
    {
      "cell_type": "markdown",
      "source": [
        "**Dica**: se tentar ler ou escrever um elemento que não existe, você recebe um ***IndexError***."
      ],
      "metadata": {
        "id": "kl6lc0hMkvkD"
      }
    },
    {
      "cell_type": "markdown",
      "source": [
        "## 2. Percorrendo uma lista"
      ],
      "metadata": {
        "id": "lPRD215clmzT"
      }
    },
    {
      "cell_type": "markdown",
      "source": [
        "for in"
      ],
      "metadata": {
        "id": "rmXrUf3HoO8r"
      }
    },
    {
      "cell_type": "markdown",
      "source": [
        "range()\n",
        "range com len()"
      ],
      "metadata": {
        "id": "N-66Kp2YoS9b"
      }
    },
    {
      "cell_type": "markdown",
      "source": [
        "enumerate()"
      ],
      "metadata": {
        "id": "N_GJMzESoYDD"
      }
    },
    {
      "cell_type": "markdown",
      "source": [
        "## 3. Fatiamento de listas"
      ],
      "metadata": {
        "id": "AqbVQfJdofX_"
      }
    }
  ]
}