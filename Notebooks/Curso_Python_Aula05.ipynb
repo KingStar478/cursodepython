{
  "nbformat": 4,
  "nbformat_minor": 0,
  "metadata": {
    "colab": {
      "provenance": [],
      "authorship_tag": "ABX9TyPC3peoOC4GSk/+Muc7antH",
      "include_colab_link": true
    },
    "kernelspec": {
      "name": "python3",
      "display_name": "Python 3"
    },
    "language_info": {
      "name": "python"
    }
  },
  "cells": [
    {
      "cell_type": "markdown",
      "metadata": {
        "id": "view-in-github",
        "colab_type": "text"
      },
      "source": [
        "<a href=\"https://colab.research.google.com/github/humbertozanetti/cursodepython/blob/main/Notebooks/Curso_Python_Aula05.ipynb\" target=\"_parent\"><img src=\"https://colab.research.google.com/assets/colab-badge.svg\" alt=\"Open In Colab\"/></a>"
      ]
    },
    {
      "cell_type": "markdown",
      "source": [
        "# **CURSO DE PYTHON - Aula 05**\n",
        "**LISTAS -  parte 2**\n",
        "\n",
        "Prof. Dr. Humberto A. P. Zanetti\n",
        "\n",
        "---"
      ],
      "metadata": {
        "id": "zxcZzh67OwQi"
      }
    },
    {
      "cell_type": "markdown",
      "source": [
        "## 1. Operações com listas"
      ],
      "metadata": {
        "id": "6GncOXkBO9p2"
      }
    },
    {
      "cell_type": "markdown",
      "source": [
        "Listas em Python são bastante dinâmicos, havendo a possibilidade de fazer operações direta com o conjunto todo de dados.\n",
        "Por exemplo podemos somar diretamente duas listas, usando o operador `+` ou multiplicar elementos dentro do conjunto, usando o operador `*`."
      ],
      "metadata": {
        "id": "MczQS_UFPA2M"
      }
    },
    {
      "cell_type": "code",
      "execution_count": null,
      "metadata": {
        "id": "A4jLYpYdOfHA"
      },
      "outputs": [],
      "source": []
    },
    {
      "cell_type": "markdown",
      "source": [
        "## 2. Métodos (funções) em listas"
      ],
      "metadata": {
        "id": "zsSS6cXiQDaZ"
      }
    },
    {
      "cell_type": "markdown",
      "source": [
        "Python oferece diversos métodos (ou funções) associadas diretamente para a operação e manipulação de listas, como o `append()` visto anteriormente."
      ],
      "metadata": {
        "id": "Bv9XCPO_QxXa"
      }
    }
  ]
}