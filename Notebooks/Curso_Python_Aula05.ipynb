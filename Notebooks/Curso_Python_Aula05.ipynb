{
  "nbformat": 4,
  "nbformat_minor": 0,
  "metadata": {
    "colab": {
      "provenance": [],
      "authorship_tag": "ABX9TyMV1sMzSy0KW3ygcWJE/rzC",
      "include_colab_link": true
    },
    "kernelspec": {
      "name": "python3",
      "display_name": "Python 3"
    },
    "language_info": {
      "name": "python"
    }
  },
  "cells": [
    {
      "cell_type": "markdown",
      "metadata": {
        "id": "view-in-github",
        "colab_type": "text"
      },
      "source": [
        "<a href=\"https://colab.research.google.com/github/humbertozanetti/cursodepython/blob/main/Notebooks/Curso_Python_Aula05.ipynb\" target=\"_parent\"><img src=\"https://colab.research.google.com/assets/colab-badge.svg\" alt=\"Open In Colab\"/></a>"
      ]
    },
    {
      "cell_type": "markdown",
      "source": [
        "# **CURSO DE PYTHON - Aula 05**\n",
        "**LISTAS -  parte 2**\n",
        "\n",
        "Prof. Dr. Humberto A. P. Zanetti\n",
        "\n",
        "---"
      ],
      "metadata": {
        "id": "zxcZzh67OwQi"
      }
    },
    {
      "cell_type": "markdown",
      "source": [
        "## 1. Operações com listas"
      ],
      "metadata": {
        "id": "6GncOXkBO9p2"
      }
    },
    {
      "cell_type": "markdown",
      "source": [
        "Listas em Python são bastante dinâmicos, havendo a possibilidade de fazer operações direta com o conjunto todo de dados.\n",
        "Por exemplo podemos somar diretamente duas listas, usando o operador `+` ou multiplicar elementos dentro do conjunto, usando o operador `*`."
      ],
      "metadata": {
        "id": "MczQS_UFPA2M"
      }
    },
    {
      "cell_type": "code",
      "execution_count": null,
      "metadata": {
        "id": "A4jLYpYdOfHA"
      },
      "outputs": [],
      "source": []
    },
    {
      "cell_type": "markdown",
      "source": [
        "## 2. Métodos (funções) em listas"
      ],
      "metadata": {
        "id": "zsSS6cXiQDaZ"
      }
    },
    {
      "cell_type": "markdown",
      "source": [
        "Python oferece diversos métodos (ou funções) associadas diretamente para a operação e manipulação de listas, como o `append()` visto anteriormente.\n",
        "\n",
        "| Método | Descrição |\n",
        "| :----: | :-------- |  \n",
        "|append(x) |Adiciona um item ao fim da lista. |\n",
        "|extend(lista) | Estende a lista, adicionando no fim todos os elementos. |\n",
        "|insert(i, x) | Insere um item em uma dada posição. |\n",
        "|remove(x) | Remove o primeiro item encontrado na lista cujo valor é igual a x. |\n",
        "|pop([i]) | Remove o item na posição fornecida na lista e retorna. Se nenhum índice for especificado, a.pop() remove e retorna o último item da lista.|\n",
        "|clear() |Remove todos os itens de uma lista. Similar a del a[:].|\n",
        "|index(x[, inicio[, fim]]) | Devolve o índice base-zero do primeiro item cujo valor é igual a x. |\n",
        "|count(x) | Devolve o número de vezes em que x aparece na lista.|\n",
        "|sort() | Ordena os itens na lista.|\n",
        "|reverse() | Inverte a ordem dos elementos na lista.|\n",
        "|copy() | Devolve uma cópia da lista. |\n",
        "\n",
        "**Mais detalhes** na [documentação oficial](https://docs.python.org/pt-br/3.13/tutorial/datastructures.html#more-on-lists)."
      ],
      "metadata": {
        "id": "Bv9XCPO_QxXa"
      }
    },
    {
      "cell_type": "code",
      "source": [],
      "metadata": {
        "id": "ZgLZTDz2ypq0"
      },
      "execution_count": null,
      "outputs": []
    },
    {
      "cell_type": "markdown",
      "source": [
        "## 3. Listas de listas\n",
        "\n",
        "Assim como podemos ter qualquer tipo de dados inseridos em um lista, podemos ter uma **lista formada por listas**. Essa estrutura se assemelha a **matrizes**.\n",
        "Matrizes são estruturas que possuem elementos que podem ser acessadas por **2 ou mais índices**.\n",
        "<img alt=\"Matriz em Python\" src=\"https://github.com/humbertozanetti/cursodepython/blob/main/Notebooks/imagens/matriz.png?raw=1\" width=\"500\">"
      ],
      "metadata": {
        "id": "cSYm60on0r6x"
      }
    }
  ]
}