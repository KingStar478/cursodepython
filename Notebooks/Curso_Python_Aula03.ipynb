{
  "nbformat": 4,
  "nbformat_minor": 0,
  "metadata": {
    "colab": {
      "provenance": [],
      "authorship_tag": "ABX9TyPqioTrW4R7ioC7p3zsP4Ct",
      "include_colab_link": true
    },
    "kernelspec": {
      "name": "python3",
      "display_name": "Python 3"
    },
    "language_info": {
      "name": "python"
    }
  },
  "cells": [
    {
      "cell_type": "markdown",
      "metadata": {
        "id": "view-in-github",
        "colab_type": "text"
      },
      "source": [
        "<a href=\"https://colab.research.google.com/github/humbertozanetti/cursodepython/blob/main/Notebooks/Curso_Python_Aula03.ipynb\" target=\"_parent\"><img src=\"https://colab.research.google.com/assets/colab-badge.svg\" alt=\"Open In Colab\"/></a>"
      ]
    },
    {
      "cell_type": "markdown",
      "source": [
        "# **CURSO DE PYTHON - Aula 03**\n",
        "**ESTRUTURAS DE REPETIÇÃO**\n",
        "\n",
        "Prof. Dr. Humberto A. P. Zanetti\n",
        "\n",
        "---"
      ],
      "metadata": {
        "id": "MJ1_8MhTnwed"
      }
    },
    {
      "cell_type": "markdown",
      "source": [
        "Estruturas de repetição são utilizados para que dentro fluxo do nosso programa tenha **ciclos de repetição** com um **conjunto específico de comandos**.Ciclos ou **laços** de repetição, também conhecidos como ***loops***, são estruturas de controle que permitem repetir um bloco de código várias vezes. São uma ferramenta fundamental na programação e podem ser usados para automatizar tarefas.\n",
        "\n",
        "Esss laços de repetição funcionam de acordo com uma **condição**, que determina quando o laço começa ou termina.\n",
        "\n",
        "<img src=\"https://github.com/humbertozanetti/cursodepython/blob/main/Notebooks/imagens/estrutura_while.png?raw=1\" width=\"300\">\n",
        "\n",
        "Em Python temos um laço de repetição padrão, que seria a estrutura `while`. Com essa estrutura podendo fazer qualquer tipo de laço de reptição, mas além dela veremos também um aplicação  da estrutura `for`, que pode ser utilizado para\n"
      ],
      "metadata": {
        "id": "qG73MNHsn__3"
      }
    },
    {
      "cell_type": "markdown",
      "source": [
        "## 1. Estrutura `while`\n",
        "\n",
        "A estrutura `while`necessita apenas de uma condição dentro do seu escopo, é **enquanto** a condição for **verdadeira** o ciclo de repetição conitnua. Caso a condição seja **falsa**, a repetição para.\n",
        "\n",
        "```python\n",
        "while <condição> :\n",
        "  <comandos>\n",
        "```"
      ],
      "metadata": {
        "id": "kaqpOgVtodBT"
      }
    },
    {
      "cell_type": "markdown",
      "source": [
        "**Exemplos:**"
      ],
      "metadata": {
        "id": "uVnIuVvDZA9a"
      }
    },
    {
      "cell_type": "code",
      "execution_count": null,
      "metadata": {
        "id": "tv0dQGwLnrx7"
      },
      "outputs": [],
      "source": []
    },
    {
      "cell_type": "markdown",
      "source": [
        "## 2. Contadores e acumuladores"
      ],
      "metadata": {
        "id": "r49DgJoXqhIs"
      }
    },
    {
      "cell_type": "markdown",
      "source": [
        "Variáveis *contadoras* e *acumuladoras* seguem o mesmo princípio: são variáveis que adicionam ou reduzem o valor dela mesma. A diferença que *contadoras* trabalham com um valor **constante**, já acumuladoras trabalham com um que pode **variar**."
      ],
      "metadata": {
        "id": "D2jHyOJ0qmhx"
      }
    },
    {
      "cell_type": "markdown",
      "source": [
        "### 2.1. Exemplos de uso de contadores"
      ],
      "metadata": {
        "id": "PHRV8WQhq4UQ"
      }
    },
    {
      "cell_type": "markdown",
      "source": [
        " Em Python, temos **operadores de atribuições especiais**, que são usados exatamente para essas ações de agregação de vamos.  \n",
        "\n",
        "| Operador | Exemplo | Equivalência |\n",
        "| :------: | :-----: | :----------: |\n",
        "| **+=**   | x += 1  | x = x +  1 |\n",
        "| **-=**   | x -= 1  | x = x -  1 |\n",
        "| ***=**   | x *= 1  | x = x *  1 |\n",
        "| **/=**   | x /= 1  | x = x /  1 |\n",
        "| **//=**  | x //= 1 | x = x //  1 |\n",
        "|**\\*\\*=** | x \\*\\*= 1 | x = x \\*\\*  1 |"
      ],
      "metadata": {
        "id": "WGSpcvfRrW7i"
      }
    },
    {
      "cell_type": "markdown",
      "source": [
        "**NOTA IMPORTANTE:** Em Python não existe operador de incremente de +1 (**++**) ou de decremento de -1 (**--**).\n",
        "\n",
        "Vamos fazer o \"famoso\" exemplo da tabuada. Nesse exemplo, nosso contador irá incrementar sempre mais +1 no valor da própria variável."
      ],
      "metadata": {
        "id": "iAyK0tuJct1C"
      }
    },
    {
      "cell_type": "code",
      "source": [],
      "metadata": {
        "id": "zWgJ-zbhacDL"
      },
      "execution_count": null,
      "outputs": []
    },
    {
      "cell_type": "markdown",
      "source": [
        "Vamos agora fazer um exemplo que conta quantos valores pares foram digitados pelo usuário"
      ],
      "metadata": {
        "id": "rVxNiEoksZjq"
      }
    },
    {
      "cell_type": "code",
      "source": [],
      "metadata": {
        "id": "SzN_7CUAxtuG"
      },
      "execution_count": null,
      "outputs": []
    },
    {
      "cell_type": "markdown",
      "source": [
        "### 2.2. Exemplo de uso de acumuladores\n",
        "\n",
        "\n",
        "\n"
      ],
      "metadata": {
        "id": "aoKeG7viyaxI"
      }
    },
    {
      "cell_type": "markdown",
      "source": [
        "Vamos fazer um exemplo de código que soma todos os valores inseridos pelo usuário e apresenta a soma ao final."
      ],
      "metadata": {
        "id": "jb7hbuUNeIoj"
      }
    },
    {
      "cell_type": "code",
      "source": [],
      "metadata": {
        "id": "nqWKJ2_-zchx"
      },
      "execution_count": null,
      "outputs": []
    },
    {
      "cell_type": "markdown",
      "source": [
        "## 3. Estrutura `for`\n",
        "\n",
        "A primeira forma de incluir mais mais do que uma condição a ser testada na estrutura condicional é por **aninhamento**. Como resultado, teremos uma estrutura hierárquica, em que a execução de uma segunda condição depende do resultado de uma primeira condição.\n",
        "Não há limites para o número de níveis hierárquicos em uma estrutura condicional, apesar de que muitos níveis hierárquicos podem tornar o código mais difícil de entender.\n",
        "\n",
        "<img src=\"https://github.com/humbertozanetti/cursodepython/blob/main/Notebooks/imagens/estrutura_ifelifelse.png?raw=1\" width=\"500\">"
      ],
      "metadata": {
        "id": "C-jyzZRGzn3O"
      }
    },
    {
      "cell_type": "markdown",
      "source": [
        "Uma sequência de vários `if` e `else` aninhados pode inserir muitos níveis de indentação no código, tornando-o confuso. Para evitar este problema, usamos a construção podemos inserir novas condições a serem verificadas usando a palavra `elif`. Pense no `elif` como uma fusão entre um  `else` e um `if`. O `else` no final captura qualquer caso em que nenhuma das condições anteriores foram satisfeitas."
      ],
      "metadata": {
        "id": "X12gqtS_0d-d"
      }
    },
    {
      "cell_type": "code",
      "source": [],
      "metadata": {
        "id": "YkVYmweX3jNk"
      },
      "execution_count": null,
      "outputs": []
    },
    {
      "cell_type": "markdown",
      "source": [
        "## EXERCÍCIOS\n",
        "\n",
        "**3.** Faça um programa que calcule a média final e menção dos alunos com base nas notas das três provas (com pesos de 20% para as duas primeiras e 60% para a terceira). Divida o problema em duas etapas. Primeiro, você deverá calcular a média das provas com os devidos pesos. Depois, atribuir a menção conforme a seguinte regra:\n",
        "\n",
        "$\n",
        "se  \\quad média \\ final \\geq 9 : menção = SS \\\\\n",
        "se \\quad 7 \\leq média \\ final < 9 : menção = MS \\\\\n",
        "se \\quad 5 \\leq média \\ final < 7 : menção = MM \\\\\n",
        "se \\quad 3 \\leq média \\ final < 5 : menção = MI \\\\\n",
        "se \\quad média \\ final < 3 : menção = II \\\\\n",
        "$"
      ],
      "metadata": {
        "id": "RKTeyc2I3t6O"
      }
    }
  ]
}