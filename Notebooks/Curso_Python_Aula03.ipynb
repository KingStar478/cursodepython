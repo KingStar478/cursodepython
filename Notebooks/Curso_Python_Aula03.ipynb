{
  "nbformat": 4,
  "nbformat_minor": 0,
  "metadata": {
    "colab": {
      "provenance": [],
      "authorship_tag": "ABX9TyPsAcH/BXVs+ky+Xl+7JQs7",
      "include_colab_link": true
    },
    "kernelspec": {
      "name": "python3",
      "display_name": "Python 3"
    },
    "language_info": {
      "name": "python"
    }
  },
  "cells": [
    {
      "cell_type": "markdown",
      "metadata": {
        "id": "view-in-github",
        "colab_type": "text"
      },
      "source": [
        "<a href=\"https://colab.research.google.com/github/humbertozanetti/cursodepython/blob/main/Notebooks/Curso_Python_Aula03.ipynb\" target=\"_parent\"><img src=\"https://colab.research.google.com/assets/colab-badge.svg\" alt=\"Open In Colab\"/></a>"
      ]
    },
    {
      "cell_type": "markdown",
      "source": [
        "# **CURSO DE PYTHON - Aula 03**\n",
        "**ESTRUTURAS DE REPETIÇÃO**\n",
        "\n",
        "Prof. Dr. Humberto A. P. Zanetti\n",
        "\n",
        "---"
      ],
      "metadata": {
        "id": "MJ1_8MhTnwed"
      }
    },
    {
      "cell_type": "markdown",
      "source": [
        "Estruturas de repetição são utilizados para que dentro fluxo do nosso programa tenha **ciclos de repetição** com um **conjunto específico de comandos**.Ciclos ou **laços** de repetição, também conhecidos como ***loops***, são estruturas de controle que permitem repetir um bloco de código várias vezes. São uma ferramenta fundamental na programação e podem ser usados para automatizar tarefas.\n",
        "\n",
        "Esss laços de repetição funcionam de acordo com uma **condição**, que determina quando o laço começa ou termina.\n",
        "\n",
        "<img src=\"https://github.com/humbertozanetti/cursodepython/blob/main/Notebooks/imagens/estrutura_while.png?raw=1\" width=\"300\">\n",
        "\n",
        "Em Python temos um laço de repetição padrão, que seria a estrutura `while`. Com essa estrutura podendo fazer qualquer tipo de laço de reptição, mas além dela veremos também um aplicação  da estrutura `for`, que pode ser utilizado para\n"
      ],
      "metadata": {
        "id": "qG73MNHsn__3"
      }
    },
    {
      "cell_type": "markdown",
      "source": [
        "## 1. Estrutura `while`\n",
        "\n",
        "A estrutura `while`necessita apenas de uma condição dentro do seu escopo, é **enquanto** a condição for **verdadeira** o ciclo de repetição conitnua. Caso a condição seja **falsa**, a repetição para.\n",
        "\n",
        "```python\n",
        "while <condição> :\n",
        "  <comandos>\n",
        "```"
      ],
      "metadata": {
        "id": "kaqpOgVtodBT"
      }
    },
    {
      "cell_type": "markdown",
      "source": [
        "**Exemplos:**"
      ],
      "metadata": {
        "id": "uVnIuVvDZA9a"
      }
    },
    {
      "cell_type": "code",
      "execution_count": null,
      "metadata": {
        "id": "tv0dQGwLnrx7"
      },
      "outputs": [],
      "source": []
    },
    {
      "cell_type": "markdown",
      "source": [
        "## 2. Contadores e acumuladores"
      ],
      "metadata": {
        "id": "r49DgJoXqhIs"
      }
    },
    {
      "cell_type": "markdown",
      "source": [
        "Variáveis *contadoras* e *acumuladoras* seguem o mesmo princípio: são variáveis que adicionam ou reduzem o valor dela mesma. A diferença que *contadoras* trabalham com um valor **constante**, já acumuladoras trabalham com um que pode **variar**."
      ],
      "metadata": {
        "id": "D2jHyOJ0qmhx"
      }
    },
    {
      "cell_type": "markdown",
      "source": [
        "### 2.1. Exemplos de uso de contadores"
      ],
      "metadata": {
        "id": "PHRV8WQhq4UQ"
      }
    },
    {
      "cell_type": "markdown",
      "source": [
        " Em Python, temos **operadores de atribuições especiais**, que são usados exatamente para essas ações de agregação de vamos.  \n",
        "\n",
        "| Operador | Exemplo | Equivalência |\n",
        "| :------: | :-----: | :----------: |\n",
        "| **+=**   | x += 1  | x = x +  1 |\n",
        "| **-=**   | x -= 1  | x = x -  1 |\n",
        "| ***=**   | x *= 1  | x = x *  1 |\n",
        "| **/=**   | x /= 1  | x = x /  1 |\n",
        "| **//=**  | x //= 1 | x = x //  1 |\n",
        "|**\\*\\*=** | x \\*\\*= 1 | x = x \\*\\*  1 |"
      ],
      "metadata": {
        "id": "WGSpcvfRrW7i"
      }
    },
    {
      "cell_type": "markdown",
      "source": [
        "**NOTA IMPORTANTE:** Em Python não existe operador de incremente de +1 (**++**) ou de decremento de -1 (**--**).\n",
        "\n",
        "Vamos fazer o \"famoso\" exemplo da tabuada. Nesse exemplo, nosso contador irá incrementar sempre mais +1 no valor da própria variável."
      ],
      "metadata": {
        "id": "iAyK0tuJct1C"
      }
    },
    {
      "cell_type": "code",
      "source": [],
      "metadata": {
        "id": "zWgJ-zbhacDL"
      },
      "execution_count": null,
      "outputs": []
    },
    {
      "cell_type": "markdown",
      "source": [
        "Vamos agora fazer um exemplo que conta quantos valores pares foram digitados pelo usuário"
      ],
      "metadata": {
        "id": "rVxNiEoksZjq"
      }
    },
    {
      "cell_type": "code",
      "source": [],
      "metadata": {
        "id": "SzN_7CUAxtuG"
      },
      "execution_count": null,
      "outputs": []
    },
    {
      "cell_type": "markdown",
      "source": [
        "### 2.2. Exemplo de uso de acumuladores\n",
        "\n",
        "\n",
        "\n"
      ],
      "metadata": {
        "id": "aoKeG7viyaxI"
      }
    },
    {
      "cell_type": "markdown",
      "source": [
        "Vamos fazer um exemplo de código que 3 valores inseridos pelo usuário e apresenta a soma ao final."
      ],
      "metadata": {
        "id": "jb7hbuUNeIoj"
      }
    },
    {
      "cell_type": "code",
      "source": [],
      "metadata": {
        "id": "YUqHcCygho1e"
      },
      "execution_count": null,
      "outputs": []
    },
    {
      "cell_type": "markdown",
      "source": [
        "### 2.3. Laços com interrupção\n"
      ],
      "metadata": {
        "id": "cheHIF1AhRH_"
      }
    },
    {
      "cell_type": "markdown",
      "source": [
        "Muitas vezes necessitamos criar laços de repetição que não tenham uma condição de parada em sua definição, mas como não ter um laço de repetição **sem a possibilidade de interrupção** usamos uma instrução chamada `break`. Essa instrução, quando executa, interrompe a execução do laço. E colocamos essa instrução aninhada em um `if`, para ser executa no cumprimento de uma condição para parar a execução do laço.  \n",
        "Em uma comparação rasteira, seria como a aplicação de um `do-while` existente em outras linguagens.\n",
        "\n",
        "Vamos alterar o exemplo anterior, agora para uma quantidade indefinida de números."
      ],
      "metadata": {
        "id": "-K3z9_BIhc-i"
      }
    },
    {
      "cell_type": "code",
      "source": [],
      "metadata": {
        "id": "nqWKJ2_-zchx"
      },
      "execution_count": null,
      "outputs": []
    },
    {
      "cell_type": "markdown",
      "source": [
        "## 3. Estrutura `for`"
      ],
      "metadata": {
        "id": "4u0UKoStgFpy"
      }
    },
    {
      "cell_type": "markdown",
      "source": [
        "A estrutura `for` em Python é destinada, por padrão, para percorrer conjuntos de valores ou objetos (chamados de \"iteráveis\"). Mas podemos fazer o uso dessa estrutura como nas demais linguagens de programação, que possui a função essencial laço de repetições finitas e contadas.  \n",
        "Mas podemos \"adaptar\" uma maneira de utilizar a estrutura `for`para um laço de reptição convencional. Como a estrutura precisa percorrer um conjunto de valores para funcionar, vamos utilizar uma função que gere um conjunto similar a uma contagem. Para isso vamos utilizar a função `range()`.  \n",
        "A função `range()`cira uma intervalo de valores inteiros sequenciais. Essa função tem 3 maneiras de utilização:\n",
        "+ `range(fim_intervalo)`: colocando apenas um parâmetro, ele será compreendido como o final do intervalo, levando em conta que o intervalo, por padrão, irá iniciar em **zero (0)**. E o fim do intervalo é dado com um limite **aberto, ou seja, não inclui o número final (`< fim_intervalo`). Ex.:"
      ],
      "metadata": {
        "id": "LAxR8EW5gJl-"
      }
    }
  ]
}