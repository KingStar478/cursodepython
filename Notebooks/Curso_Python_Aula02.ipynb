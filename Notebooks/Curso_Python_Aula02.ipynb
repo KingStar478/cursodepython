{
  "nbformat": 4,
  "nbformat_minor": 0,
  "metadata": {
    "colab": {
      "provenance": [],
      "authorship_tag": "ABX9TyPYEOy+Tc4SZqZgSMqF+N/f",
      "include_colab_link": true
    },
    "kernelspec": {
      "name": "python3",
      "display_name": "Python 3"
    },
    "language_info": {
      "name": "python"
    }
  },
  "cells": [
    {
      "cell_type": "markdown",
      "metadata": {
        "id": "view-in-github",
        "colab_type": "text"
      },
      "source": [
        "<a href=\"https://colab.research.google.com/github/humbertozanetti/cursodepython/blob/main/Notebooks/Curso_Python_Aula02.ipynb\" target=\"_parent\"><img src=\"https://colab.research.google.com/assets/colab-badge.svg\" alt=\"Open In Colab\"/></a>"
      ]
    },
    {
      "cell_type": "markdown",
      "source": [
        "# **CURSO DE PYTHON - Aula 02**\n",
        "\n",
        "Prof. Dr. Humberto A. P. Zanetti\n",
        "\n",
        "---"
      ],
      "metadata": {
        "id": "MJ1_8MhTnwed"
      }
    },
    {
      "cell_type": "markdown",
      "source": [
        "Estruturas condicionais permitem alterar o fluxo de execução de um programa através da verificação de **condições**, que podem ser codificadas em nosso programa por meio de **expressões lógicas**. Essas expressões lógicas se baseiam em dos valores lógicos (ou booleanos), que são \"verdadeiro\" (***True***) e \"falso\" (***False***)."
      ],
      "metadata": {
        "id": "qG73MNHsn__3"
      }
    },
    {
      "cell_type": "markdown",
      "source": [
        "## 1. Expressões Lógicas\n",
        "\n",
        "Expressões lógicas são todas aquelas que resultam em 2 valores possíveis: **verdadeiro** ou **falso**, ou em Python, **True** ou **Falso**.\n",
        "\n",
        "Nessas expressões são utilizadas 2 tipos de operadores:\n",
        "* **relacionais**: permitem comparar os valores de um par de objetos, e retornam `True` caso sejam equivalentes e `False` caso contrário;\n",
        "* **lógicos**: úteis para combinar resultados booleanos obtidos de várias comparações, permitindo construir estruturas de decisão mais complexas.\n",
        "\n",
        "| Operador | Descrição |\n",
        "| -------- | --------- |\n",
        "| **Operadores relacionais** | |\n",
        "|    `==`  | `True` se valores de dois operandos são iguais |\n",
        "|    `!=`  | `True` se valores de dois operandos são diferentes |\n",
        "|    `<`  | `True` se valor do operando à esquerda é menor que o da direita |\n",
        "|    `<=`  | `True` se valor do operando à esquerda é menor ou igual ao da direita|\n",
        "|    `>`  | `True` se valor do operando à esquerda é maior que o da direita |\n",
        "|    `>=`  | `True` se valor do operando à esquerda é maior ou igual ao da direita |\n",
        "| **Operadores lógicos**| |\n",
        "|    `and`  | Operador lógico \"E\" |\n",
        "|    `or`  | Operador lógico \"OU\" |\n",
        "|    `not`  |Operador lógico \"NÃO\" |\n",
        "\n",
        "\n",
        "Esses operadores podem ser testados de maneira direta:"
      ],
      "metadata": {
        "id": "kaqpOgVtodBT"
      }
    },
    {
      "cell_type": "code",
      "execution_count": null,
      "metadata": {
        "id": "tv0dQGwLnrx7"
      },
      "outputs": [],
      "source": []
    },
    {
      "cell_type": "markdown",
      "source": [
        "Com esses operadores podemos formar o que chamamos de **condições**, que são utilizadas em estruturas condicionais."
      ],
      "metadata": {
        "id": "HmjPCUGRqJO4"
      }
    },
    {
      "cell_type": "markdown",
      "source": [
        "## 2. Estruturas Condicionais"
      ],
      "metadata": {
        "id": "r49DgJoXqhIs"
      }
    },
    {
      "cell_type": "markdown",
      "source": [
        "Estruturas condicionais são baseadas em duas estruturas fundamentais, como `if` e `else`."
      ],
      "metadata": {
        "id": "D2jHyOJ0qmhx"
      }
    },
    {
      "cell_type": "markdown",
      "source": [
        "### 2.1. Estrutura `if`"
      ],
      "metadata": {
        "id": "PHRV8WQhq4UQ"
      }
    },
    {
      "cell_type": "markdown",
      "source": [
        "A estrutura `if` é a estrutura mais simples de escrevermos um bloco de código $A$ que somente deve ser executado caso uma determinada condição **seja satisfeita** (ou seja, avaliada como `True`). Caso contrário, o código $A$ é simplesmente ignorado.\n",
        "\n",
        "<img src=\"https://github.com/humbertozanetti/cursodepython/blob/main/Notebooks/imagens/estrutura_if.png?raw=1\" width=\"400\">"
      ],
      "metadata": {
        "id": "WGSpcvfRrW7i"
      }
    },
    {
      "cell_type": "markdown",
      "source": [
        "Atualmente, em Python 3, todas as estruturas não utilizam `()`. Exemplo:"
      ],
      "metadata": {
        "id": "rVxNiEoksZjq"
      }
    },
    {
      "cell_type": "code",
      "source": [
        "if <condição>:\n",
        "    <código>"
      ],
      "metadata": {
        "id": "SzN_7CUAxtuG"
      },
      "execution_count": null,
      "outputs": []
    },
    {
      "cell_type": "markdown",
      "source": [
        "Percebam utilizamos `:` para início do bloco do código. E, claro, utilizamos indentação para o bloco."
      ],
      "metadata": {
        "id": "DH-Z7BRex0o7"
      }
    },
    {
      "cell_type": "code",
      "source": [],
      "metadata": {
        "id": "qqTvVV8oyaIR"
      },
      "execution_count": null,
      "outputs": []
    },
    {
      "cell_type": "markdown",
      "source": [
        "### 2.2. Estrutura `if-else`\n",
        "\n",
        "Um `if` pode ser associado a um `else`, contendo um bloco de código que é executado casa a condição do `if` **não seja satisfeita** (ou seja, avaliada como `False`).\n",
        "\n",
        "<img src=\"https://github.com/humbertozanetti/cursodepython/blob/main/Notebooks/imagens/estrutura_ifelse.png?raw=1\" width=\"400\">"
      ],
      "metadata": {
        "id": "aoKeG7viyaxI"
      }
    },
    {
      "cell_type": "code",
      "source": [],
      "metadata": {
        "id": "nqWKJ2_-zchx"
      },
      "execution_count": null,
      "outputs": []
    },
    {
      "cell_type": "markdown",
      "source": [
        "As duas construções tratadas acima se baseiam na verificação de apenas uma condição, que dependendo de como for avaliada (`True` ou `False`), desencadeia um dentre dois possíveis comportamentos.\n",
        "Mas e se desejarmos construir uma estrutura condicional que permita **mais do que apenas dois \"caminhos\" diferentes**?\n",
        "Neste caso precisamos verificar mais do que uma única condição."
      ],
      "metadata": {
        "id": "1tPT6-svzdNB"
      }
    },
    {
      "cell_type": "markdown",
      "source": [
        "### 2.3. Estruturas Condicionais Aninhadas: `if-elif-else`\n",
        "\n",
        "A primeira forma de incluir mais mais do que uma condição a ser testada na estrutura condicional é por **aninhamento**. Como resultado, teremos uma estrutura hierárquica, em que a execução de uma segunda condição depende do resultado de uma primeira condição.\n",
        "Não há limites para o número de níveis hierárquicos em uma estrutura condicional, apesar de que muitos níveis hierárquicos podem tornar o código mais difícil de entender.\n",
        "\n",
        "<img src=\"https://github.com/humbertozanetti/cursodepython/blob/main/Notebooks/imagens/estrutura_ifelifelse.png?raw=1\" width=\"500\">"
      ],
      "metadata": {
        "id": "C-jyzZRGzn3O"
      }
    },
    {
      "cell_type": "markdown",
      "source": [
        "Uma sequência de vários `if` e `else` aninhados pode inserir muitos níveis de indentação no código, tornando-o confuso. Para evitar este problema, usamos a construção podemos inserir novas condições a serem verificadas usando a palavra `elif`. Pense no `elif` como uma fusão entre um  `else` e um `if`. O `else` no final captura qualquer caso em que nenhuma das condições anteriores foram satisfeitas."
      ],
      "metadata": {
        "id": "X12gqtS_0d-d"
      }
    },
    {
      "cell_type": "code",
      "source": [],
      "metadata": {
        "id": "YkVYmweX3jNk"
      },
      "execution_count": null,
      "outputs": []
    },
    {
      "cell_type": "markdown",
      "source": [
        "## EXERCÍCIOS\n",
        "\n",
        "**3.** Faça um programa que calcule a média final e menção dos alunos com base nas notas das três provas (com pesos de 20% para as duas primeiras e 60% para a terceira). Divida o problema em duas etapas. Primeiro, você deverá calcular a média das provas com os devidos pesos. Depois, atribuir a menção conforme a seguinte regra:\n",
        "\n",
        "$\n",
        "se  \\quad média \\ final \\geq 9 : menção = SS \\\\\n",
        "se \\quad 7 \\leq média \\ final < 9 : menção = MS \\\\\n",
        "se \\quad 5 \\leq média \\ final < 7 : menção = MM \\\\\n",
        "se \\quad 3 \\leq média \\ final < 5 : menção = MI \\\\\n",
        "se \\quad média \\ final < 3 : menção = II \\\\\n",
        "$"
      ],
      "metadata": {
        "id": "RKTeyc2I3t6O"
      }
    }
  ]
}