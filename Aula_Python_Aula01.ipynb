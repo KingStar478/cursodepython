{
  "nbformat": 4,
  "nbformat_minor": 0,
  "metadata": {
    "colab": {
      "provenance": [],
      "authorship_tag": "ABX9TyO2BwywEU+KxiPKSRyNAZvD",
      "include_colab_link": true
    },
    "kernelspec": {
      "name": "python3",
      "display_name": "Python 3"
    },
    "language_info": {
      "name": "python"
    }
  },
  "cells": [
    {
      "cell_type": "markdown",
      "metadata": {
        "id": "view-in-github",
        "colab_type": "text"
      },
      "source": [
        "<a href=\"https://colab.research.google.com/github/humbertozanetti/cursodepython/blob/main/Aula_Python_Aula01.ipynb\" target=\"_parent\"><img src=\"https://colab.research.google.com/assets/colab-badge.svg\" alt=\"Open In Colab\"/></a>"
      ]
    },
    {
      "cell_type": "markdown",
      "source": [
        "# **CURSO DE PYTHON - Aula 1**\n",
        "\n",
        "Prof. Dr. Humberto A. P. Zanetti\n",
        "\n",
        "---\n"
      ],
      "metadata": {
        "id": "sgh7Tr_zKpLZ"
      }
    },
    {
      "cell_type": "markdown",
      "source": [
        " A linguagem [*Python*](https://www.python.org/), uma linguagem de **propósito geral** que oferece **alto nível** de abstração. Isso faz de *Python* uma excelente primeira linguagem a ser aprendida, pois *(i)* você poderá aplicar seus novos conhecimentos em programação a vários projetos e contextos diferentes; e *(ii)* você trabalhará projetando suas ideias, sem ter que se preocupar com os mínimos detalhes sobre como seu código funciona.\n",
        "\n",
        "Um componente fundamental da linguagem *Python* que nos permite **executar** o código que escrevemos é o **interpretador**.\n",
        "No fundo, o interpretador é um programa que executa programas! Ele lê as instruções que escrevemos na forma de código e as executa logo em seguida, sem antes precisar traduzi-lo para código de máquina. Quer ver um exemplo?\n",
        "\n",
        "Vamos começar construindo o [programa \"Hello World\"](https://www.wikiwand.com/en/%22Hello,_World!%22_program) ou \"Olá Mundo\", uma tradição bem conhecida entre os programadores quando estão aprendendo uma linguagem nova.\n",
        "\n",
        "Este pequeno programa é encarado como um primeiro teste, e simplesmente imprime uma mensagem com o texto *\"Olá Mundo\"* no console."
      ],
      "metadata": {
        "id": "vRDtTLB5Lmu4"
      }
    },
    {
      "cell_type": "code",
      "execution_count": null,
      "metadata": {
        "id": "9mTMLp8JKoZU"
      },
      "outputs": [],
      "source": [
        "print('Olá Mundo')"
      ]
    },
    {
      "cell_type": "markdown",
      "source": [
        "A função **print** é uma função, que utilizamos para expôr mensagens e valores para asaída padrão. Esta função recebe um texto como argumento, entre parênteses, e o imprime no console. No caso, o texto que passamos é 'Olá Mundo'. As **aspas simples** envolvendo o texto servem para dizer ao interpretador que estamos construindo uma string (o tipo de dado que usamos para representar texto). O uso de aspas simples é a maneira mais **pythonica** de usar strings.\n",
        "\n",
        "Mais a frente veremos mais sobre **print** e saída formatadas."
      ],
      "metadata": {
        "id": "YGS3KnemL-ks"
      }
    },
    {
      "cell_type": "markdown",
      "source": [
        "## **1. Tipos de dados**\n",
        "\n",
        "\n"
      ],
      "metadata": {
        "id": "vPyai3ORM5Ot"
      }
    },
    {
      "cell_type": "markdown",
      "source": [
        "**Tipos** são abstrações fundamentais nas linguagens de programação que nos permitem representar elementos de informação. Cada linguagem possui um conjunto de *tipos primitivos* (ou fundamentais), a partir dos quais o programador pode construir *tipos compostos*.\n",
        "Por enquanto vamos conhecer alguns dos tipos primitivos, que já vêm definidos na linguagem *Python*:\n",
        "\n",
        "* Tipos **numéricos**:\n",
        " * **Integer** (inteiros): Permite representar números inteiros, por exemplo `4`.\n",
        " * **Float** (ponto flutuante): Permite representar números com parte fracionária, por exemplo `42.5`.\n",
        "\n",
        "* **String**: Permite representar informação na forma de texto, por exemplo `\"Palavra\"` ou `\"C\"`. Usamos aspas (duplas ou simples) para representar informação textual. Em muitas outras linguagens de programação existe também o tipo caractere (ou char). Porém, em *Python* um caractere é uma string de comprimento 1.\n",
        "\n",
        "* **Boolean**: Representa informação em lógica binária, `True` ou `False`."
      ],
      "metadata": {
        "id": "fzIMXYsINhw4"
      }
    },
    {
      "cell_type": "code",
      "source": [],
      "metadata": {
        "id": "I4wRg9vOOTbF"
      },
      "execution_count": null,
      "outputs": []
    },
    {
      "cell_type": "markdown",
      "source": [
        "Veja mais sobre [tipos nativos](https://docs.python.org/3/library/stdtypes.html#built-in-types) da linguagem *Python* em sua documentação."
      ],
      "metadata": {
        "id": "igyqgVjUOT7x"
      }
    },
    {
      "cell_type": "markdown",
      "source": [
        "## **2. Operadores e expressões**"
      ],
      "metadata": {
        "id": "Hntg7rePOdfl"
      }
    },
    {
      "cell_type": "markdown",
      "source": [
        "**Operadores** são os símbolos que especificam as computações mais fundamentais, como por exemplo soma, subtração, multiplicação e divisão. Sempre que aplicamos um operador sobre dois operandos, esperamos obter algum resultado imediatamente. Podemos combinar vários operadores e operandos, construindo assim **expressões**. Veja na tabela abaixo os principais operadores numéricos da linguagem *Python*.\n",
        "\n",
        "| Operação| Operador| Exemplo | Resultado\n",
        "|:-|---|-:|--|\n",
        "| Soma      | `+` | `9 + 7` | `16` |\n",
        "| Subtração | `-` | `9 - 7` | `2` |\n",
        "| Multiplicação | `*` | `9 * 7` | `63` |\n",
        "| Divisão | `/` | `5 / 2`| `2.5` |\n",
        "| Exponenciação | `**` | `9**2` | `81` |\n",
        "| Módulo | `%` | `9 % 2` | `1` |"
      ],
      "metadata": {
        "id": "enaU84AbOl8F"
      }
    },
    {
      "cell_type": "markdown",
      "source": [
        ">**NOTA:** a ordem dos operadores em uam expressão segue a mesma convenção de precedência utilizada na matemática convencional. Utilizamos parênteses para dar prioridades nas expresões.\n",
        "Na célula abaixo, represente a seguinte expressão em código e obtenha seu resultado:\n",
        "$$ \\frac{3+(3\\times5)}{2\\times(2+3)} $$"
      ],
      "metadata": {
        "id": "R0Oti-Z1O2tl"
      }
    },
    {
      "cell_type": "code",
      "source": [
        "# Resultado esperado: 1.8\n",
        "\n"
      ],
      "metadata": {
        "id": "xjBNT1lyP9e9"
      },
      "execution_count": null,
      "outputs": []
    },
    {
      "cell_type": "markdown",
      "source": [
        "> **Nota**: Utilizamos o *sharp* `#` na primeira linha da célula acima? Linhas de código precedidas por este símbolo são comentários, que funcionam como mensagens a quem está lendo seu código, normalmente outros programadores.\n",
        "Qualquer coisa escrita na mesma linha **à direita** do símbolo é simplesmente ignorada pelo interpretador, ou seja, **não é executada**.\n",
        "É comum utilizar comentários para documentar partes de um código, ou marcar regiões que devem ser trabalhadas futuramente."
      ],
      "metadata": {
        "id": "RplfiJCgQEBV"
      }
    },
    {
      "cell_type": "markdown",
      "source": [
        "## **3. Variáveis**"
      ],
      "metadata": {
        "id": "yQ0EToc-RwnR"
      }
    },
    {
      "cell_type": "markdown",
      "source": [
        "Quando estamos programando, frequentemente precisamos armazenar valores obtidos em etapas anteriores em memória.\n",
        "Assim, podemos re-utilizar estes valores sem precisar repetir todo o código.\n",
        "Linguagens de programação oferecem uma maneira bastante intuitiva para isso, por meio de **variáveis**.\n",
        "O símbolo que usamos para **atribuir** valores a variáveis é o sinal de igual (`=`). Na linguagem *Python*, uma variável é criada assim que atribuimos algum valor a ela.\n",
        "\n",
        "**obs:** O nome da variável sempre deve ser escrito à esquerda do símbolo `=`, e o valor a ser atribuído à variável, à direita."
      ],
      "metadata": {
        "id": "i4uSjnkBRz5d"
      }
    },
    {
      "cell_type": "code",
      "source": [],
      "metadata": {
        "id": "8Ggwez4cR7ou"
      },
      "execution_count": null,
      "outputs": []
    },
    {
      "cell_type": "markdown",
      "source": [
        "## **4. Saída formatada**\n",
        "\n"
      ],
      "metadata": {
        "id": "CH_GgM5BSEVJ"
      }
    },
    {
      "cell_type": "markdown",
      "source": [
        "A função *print* é o principal recurso para saída de mensagens e valores para a saída padrão (geralmente o console).\n",
        "\n",
        "Algumas utilizações do uso simples da função *print*:"
      ],
      "metadata": {
        "id": "IfzFk5RiSWVF"
      }
    },
    {
      "cell_type": "code",
      "source": [
        "# Saída simples (para console)\n",
        "print('Oi!')\n",
        "\n",
        "# A função print() pode imprimir strings, com aspas simples ou duplas\n",
        "print('Oficina Python')\n",
        "print(\"Oficina Python\")\n",
        "\n",
        "# A função print() pode imprimir números inteiros e reais\n",
        "print(2021)\n",
        "print(123.456)\n",
        "\n",
        "# Podemos imprimir o resultado de expressões\n",
        "print(1+2)\n",
        "print(123456 * 7890123)\n",
        "print(1.3 * 2345)"
      ],
      "metadata": {
        "id": "ER5d46NkSwI9"
      },
      "execution_count": null,
      "outputs": []
    }
  ]
}