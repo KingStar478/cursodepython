{
  "nbformat": 4,
  "nbformat_minor": 0,
  "metadata": {
    "colab": {
      "provenance": [],
      "authorship_tag": "ABX9TyNoNRpVJrX4h3fZ764eIvfA",
      "include_colab_link": true
    },
    "kernelspec": {
      "name": "python3",
      "display_name": "Python 3"
    },
    "language_info": {
      "name": "python"
    }
  },
  "cells": [
    {
      "cell_type": "markdown",
      "metadata": {
        "id": "view-in-github",
        "colab_type": "text"
      },
      "source": [
        "<a href=\"https://colab.research.google.com/github/humbertozanetti/cursodepython/blob/main/Curso_Python_Aula02.ipynb\" target=\"_parent\"><img src=\"https://colab.research.google.com/assets/colab-badge.svg\" alt=\"Open In Colab\"/></a>"
      ]
    },
    {
      "cell_type": "markdown",
      "source": [
        "# **CURSO DE PYTHON - Aula 02**\n",
        "\n",
        "Prof. Dr. Humberto A. P. Zanetti\n",
        "\n",
        "---"
      ],
      "metadata": {
        "id": "MJ1_8MhTnwed"
      }
    },
    {
      "cell_type": "markdown",
      "source": [
        "Estruturas condicionais permitem alterar o fluxo de execução de um programa através da verificação de **condições**, que podem ser codificadas em nosso programa por meio de **expressões lógicas**. Essas expressões lógicas se baseiam em dos valores lógicos (ou booleanos), que são \"verdadeiro\" (***True***) e \"falso\" (***False***)."
      ],
      "metadata": {
        "id": "qG73MNHsn__3"
      }
    },
    {
      "cell_type": "markdown",
      "source": [
        "## 1. Expressões Lógicas\n",
        "\n",
        "Expressões lógicas são todas aquelas que resultam em 2 valores possíveis: **verdadeiro** ou **falso**, ou em Python, **True** ou **Falso**.\n",
        "\n",
        "Nessas expressões são utilizadas 2 tipos de operadores:\n",
        "* **relacionais**: permitem comparar os valores de um par de objetos, e retornam `True` caso sejam equivalentes e `False` caso contrário;\n",
        "* **lógicos**: úteis para combinar resultados booleanos obtidos de várias comparações, permitindo construir estruturas de decisão mais complexas.\n",
        "\n",
        "| Operador | Descrição |\n",
        "| -------- | --------- |\n",
        "| **Operadores relacionais** | |\n",
        "|    `==`  | `True` se valores de dois operandos são iguais |\n",
        "|    `!=`  | `True` se valores de dois operandos são diferentes |\n",
        "|    `<`  | `True` se valor do operando à esquerda é menor que o da direita |\n",
        "|    `<=`  | `True` se valor do operando à esquerda é menor ou igual ao da direita|\n",
        "|    `>`  | `True` se valor do operando à esquerda é maior que o da direita |\n",
        "|    `>=`  | `True` se valor do operando à esquerda é maior ou igual ao da direita |\n",
        "| **Operadores lógicos**| |\n",
        "|    `and`  | Operador lógico \"E\" |\n",
        "|    `or`  | Operador lógico \"OU\" |\n",
        "|    `not`  |Operador lógico \"NÃO\" |\n",
        "\n",
        "\n",
        "Esses operadores podem ser testados de maneira direta:"
      ],
      "metadata": {
        "id": "kaqpOgVtodBT"
      }
    },
    {
      "cell_type": "code",
      "execution_count": null,
      "metadata": {
        "id": "tv0dQGwLnrx7"
      },
      "outputs": [],
      "source": []
    },
    {
      "cell_type": "markdown",
      "source": [
        "Com esses operadores podemos formar o que chamamos de **condições**, que são utilizadas em estruturas condicionais."
      ],
      "metadata": {
        "id": "HmjPCUGRqJO4"
      }
    },
    {
      "cell_type": "markdown",
      "source": [
        "## 2. Estruturas Condicionais"
      ],
      "metadata": {
        "id": "r49DgJoXqhIs"
      }
    },
    {
      "cell_type": "markdown",
      "source": [
        "Estruturas condicionais são baseadas em duas estruturas fundamentais, como `if` e `else`."
      ],
      "metadata": {
        "id": "D2jHyOJ0qmhx"
      }
    },
    {
      "cell_type": "markdown",
      "source": [
        "### 2.1. Estrutura `if`"
      ],
      "metadata": {
        "id": "PHRV8WQhq4UQ"
      }
    },
    {
      "cell_type": "markdown",
      "source": [
        "A estrutura `if` é a estrutura mais simples de escrevermos um bloco de código $A$ que somente deve ser executado caso uma determinada condição **seja satisfeita** (ou seja, avaliada como `True`). Caso contrário, o código $A$ é simplesmente ignorado.\n",
        "\n",
        "<img src=\"imagens/estrutura_if.png\" width=\"400\">"
      ],
      "metadata": {
        "id": "WGSpcvfRrW7i"
      }
    },
    {
      "cell_type": "markdown",
      "source": [],
      "metadata": {
        "id": "rVxNiEoksZjq"
      }
    }
  ]
}